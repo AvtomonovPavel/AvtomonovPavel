{
  "nbformat": 4,
  "nbformat_minor": 0,
  "metadata": {
    "colab": {
      "name": "3.2.2 The model of a vertical well (limited entry).ipynb",
      "provenance": [],
      "authorship_tag": "ABX9TyO3J2uokr+TGYyKZQoKy8+U"
    },
    "kernelspec": {
      "name": "python3",
      "display_name": "Python 3"
    },
    "language_info": {
      "name": "python"
    }
  },
  "cells": [
    {
      "cell_type": "code",
      "execution_count": null,
      "metadata": {
        "colab": {
          "base_uri": "https://localhost:8080/"
        },
        "id": "V2f4LWciDx9Q",
        "outputId": "008cd5a4-9d49-4cfa-c2b2-4ddfc2c684ac"
      },
      "outputs": [
        {
          "output_type": "stream",
          "name": "stdout",
          "text": [
            "Collecting anaflow\n",
            "  Downloading anaflow-1.0.1-py3-none-any.whl (33 kB)\n",
            "Requirement already satisfied: numpy>=1.14.5 in /usr/local/lib/python3.7/dist-packages (from anaflow) (1.21.6)\n",
            "Requirement already satisfied: scipy>=1.1.0 in /usr/local/lib/python3.7/dist-packages (from anaflow) (1.4.1)\n",
            "Collecting pentapy>=1.1.0\n",
            "  Downloading pentapy-1.1.2-cp37-cp37m-manylinux2010_x86_64.whl (348 kB)\n",
            "\u001b[K     |████████████████████████████████| 348 kB 4.2 MB/s \n",
            "\u001b[?25hInstalling collected packages: pentapy, anaflow\n",
            "Successfully installed anaflow-1.0.1 pentapy-1.1.2\n"
          ]
        }
      ],
      "source": [
        "!pip install anaflow"
      ]
    },
    {
      "cell_type": "code",
      "source": [
        "import numpy as np\n",
        "import sympy as sp\n",
        "import anaflow\n",
        "import pandas as pd\n",
        "import scipy.integrate as integrate\n",
        "import scipy.special as sc\n",
        "import matplotlib.pyplot as plt\n",
        "from mpmath import *\n",
        "mp.dps = 15; mp.pretty = True"
      ],
      "metadata": {
        "id": "B1XaBmCDDygo"
      },
      "execution_count": null,
      "outputs": []
    },
    {
      "cell_type": "markdown",
      "source": [
        "##Задача\n",
        "###Рассмотрим неустановившийся приток к вертикальной скважине, неполностью вскрывшей пласт бурением, с глубиной вскрытия hw в в бесконечном однородном горизонтальном пласте постоянной толщины h с начальным давлением pi и с постоянством давления на верхней и нижней границах."
      ],
      "metadata": {
        "id": "_qA2uLT2rl4b"
      }
    },
    {
      "cell_type": "markdown",
      "source": [
        "###Исходные данные"
      ],
      "metadata": {
        "id": "1zNU20oSrwmq"
      }
    },
    {
      "cell_type": "code",
      "source": [
        "#Исходные данные\n",
        "q = 0.00092 # [m3/c] - дебит скважины\n",
        "B = 1.25 # [m3/m3] - объемный коэффициент\n",
        "k = 5*1e-15 # [m2] - изотропная проницаемость\n",
        "h = 9.144 # [m] - толщина пласта\n",
        "f = 0.3 # [] - пористость\n",
        "c = 1.47*1e-9 # [1/Pa] - сжимаемость флюида\n",
        "cf = 1 * 1e-9 # [1/Pa] - сжимаемость породы\n",
        "ct = (c + cf) # [1/Pa] - общая породы\n",
        "rw = 0.1524 # [m] - радиус ствола скважины\n",
        "r = 0.1524 # [m] - радиальная координата и расстояние\n",
        "mu = 3*1e-3 # [Pa*c] - вязкость\n",
        "eta = k / (mu * f * ct) # коэф пьезопроводности \n",
        "eta_x = (eta ** 2 * 10) ** (1/2) # [] - коэффициент пьезопроводности в x направлении\n",
        "eta_y = eta_x # [] - коэффициент пьезопроводности в y направлении\n",
        "eta_z = 0.1 * eta_x # [] - коэффициент пьезопроводности в z направлении\n",
        "x = rw # [m] - расстояние в x направлении\n",
        "x_s = 0 # [m] - координата источника в x направлении\n",
        "y = 0 # [m] - расстояние в y направлении\n",
        "y_s = 0 # [m] - координата источника в y направлении\n",
        "z = 3.5 # [m] - расстояние в z направлении\n",
        "z_w = 5 # [m] - координата скважины в z направлении\n",
        "t_s = 3\n",
        "l = rw # обезразмеривающий параметр\n",
        "tau = np.logspace(0,6,100) # [c] - время\n",
        "t = np.logspace(2,9,1000) # [c] - время\n",
        "h_w = 5 # [m] - длина скважины (частично вскрывающей пласта)\n",
        "xd = 1\n",
        "yd = 0\n",
        "zd = 0\n"
      ],
      "metadata": {
        "id": "Nv8E50mVDzqd"
      },
      "execution_count": null,
      "outputs": []
    },
    {
      "cell_type": "code",
      "source": [
        "def td_2_t(td, eta = eta, l = l):\n",
        "  return l ** 2 * td / eta"
      ],
      "metadata": {
        "id": "hHOZdfW7xt6I"
      },
      "execution_count": null,
      "outputs": []
    },
    {
      "cell_type": "code",
      "source": [
        "def rd(xd = xd, yd = yd, zd = zd):\n",
        "  return (xd ** 2 + yd ** 2 + zd ** 2) ** 0.5"
      ],
      "metadata": {
        "id": "XJkpMeQVwHDr"
      },
      "execution_count": null,
      "outputs": []
    },
    {
      "cell_type": "code",
      "source": [
        "def hd(h = h, k = k, kz = 1 * k, l = l):\n",
        "  return h * (k / kz) ** 0.5 / l"
      ],
      "metadata": {
        "id": "xnKFSX86wA_1"
      },
      "execution_count": null,
      "outputs": []
    },
    {
      "cell_type": "code",
      "source": [
        "def func_vert_part_well(s, n, rd=rd(), hw = h_w, h = h, z = z, z_w = z_w, hd = hd()):\n",
        "  return 1 / n * sc.kn(0, rd * (s + n ** 2 * np.pi ** 2 / hd ** 2) ** 0.5) * np.sin(n * np.pi * hw / (2 * h)) * np.sin(n * np.pi * z / h)*np.sin(n * np.pi * z_w / h)"
      ],
      "metadata": {
        "id": "mgjjDvafD0nP"
      },
      "execution_count": null,
      "outputs": []
    },
    {
      "cell_type": "code",
      "source": [
        "def sum_vert_part_well(s):\n",
        "  result_1 = func_vert_part_well(s,1)\n",
        "  m = 1\n",
        "  while (m < 500):\n",
        "    result_1 += func_vert_part_well(s,m+1)\n",
        "    m += 1\n",
        "  return result_1"
      ],
      "metadata": {
        "id": "oXw2u-9i8wCI"
      },
      "execution_count": null,
      "outputs": []
    },
    {
      "cell_type": "code",
      "source": [
        "def vert_part_well(s, q = q, mu = mu, h = h, k = k, l = l, hd = hd(), h_w = h_w, rd = rd(), z_w = z_w , f = f, B = B):\n",
        "  return 2 * q * mu * h * B/ ( np.pi ** 2 * k * l * hd * h_w * s) *  sum_vert_part_well(s)"
      ],
      "metadata": {
        "id": "dkGvtAewERkm"
      },
      "execution_count": null,
      "outputs": []
    },
    {
      "cell_type": "code",
      "source": [
        "path = 'https://raw.githubusercontent.com/AvtomonovPavel/Method-of-sources/main/Examples/example_3.2.2'\n",
        "df = pd.read_table(path, sep='\\s+', engine = 'python')\n"
      ],
      "metadata": {
        "id": "VP9TmvAPsUQc"
      },
      "execution_count": null,
      "outputs": []
    },
    {
      "cell_type": "code",
      "source": [
        "tau = np.logspace(0,3,300) # [c] - время\n",
        "pd_lps = anaflow.get_lap_inv(vert_part_well)\n",
        "fig, ax1 = plt.subplots()\n",
        "fig.set_size_inches(16, 8)\n",
        "ax1.plot(td_2_t(tau), pd_lps(tau), label= 'Депрессия')\n",
        "ax1.plot(td_2_t(tau)[:-1], np.diff( pd_lps(tau))/np.diff(td_2_t(tau)) * td_2_t(tau)[:-1], label = \"Производная депрессии\")\n",
        "plt.title(\"Вертикальная скважина (частичное вскрытие)\")\n",
        "ax1.plot(df['dTime'][:-15], df['p-p@dt=0'][:-15],'o', label = 'Результаты коммерческого симмулятора. Депрессия')\n",
        "ax1.plot(df['dTime'][:-15], df['Derivative'][:-15],'o', label = 'Результаты коммерческого симмулятора. Производная депрессии')\n",
        "ax1.set_xscale('log')\n",
        "ax1.set_yscale('log')\n",
        "ax1.legend()\n",
        "ax1.grid()\n",
        "plt.xlabel(\"t, c\")\n",
        "plt.ylabel(\"dP, Па\")"
      ],
      "metadata": {
        "colab": {
          "base_uri": "https://localhost:8080/",
          "height": 535
        },
        "id": "zmKBshAUESrg",
        "outputId": "0282ea88-c31c-491c-c378-9dbd997ad916"
      },
      "execution_count": null,
      "outputs": [
        {
          "output_type": "execute_result",
          "data": {
            "text/plain": [
              "Text(0, 0.5, 'dP, Па')"
            ]
          },
          "metadata": {},
          "execution_count": 43
        },
        {
          "output_type": "display_data",
          "data": {
            "text/plain": [
              "<Figure size 1152x576 with 1 Axes>"
            ],
            "image/png": "[encoded data removed]"
          },
          "metadata": {
            "needs_background": "light"
          }
        }
      ]
    },
    {
      "cell_type": "code",
      "source": [
        ""
      ],
      "metadata": {
        "id": "v0F5fLw6EVwB"
      },
      "execution_count": null,
      "outputs": []
    }
  ]
}