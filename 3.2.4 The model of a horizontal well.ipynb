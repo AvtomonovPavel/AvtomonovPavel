{
  "nbformat": 4,
  "nbformat_minor": 0,
  "metadata": {
    "colab": {
      "name": "3.2.4 The model of a horizontal well.ipynb",
      "provenance": [],
      "collapsed_sections": [],
      "authorship_tag": "ABX9TyPXQqjHsS8qCc8wIaagVoSp"
    },
    "kernelspec": {
      "name": "python3",
      "display_name": "Python 3"
    },
    "language_info": {
      "name": "python"
    }
  },
  "cells": [
    {
      "cell_type": "code",
      "execution_count": null,
      "metadata": {
        "colab": {
          "base_uri": "https://localhost:8080/"
        },
        "id": "x7PVoU7aFG_t",
        "outputId": "6096448c-f689-47c0-a1b5-75c362ccb1fb"
      },
      "outputs": [
        {
          "output_type": "stream",
          "name": "stdout",
          "text": [
            "Requirement already satisfied: anaflow in /usr/local/lib/python3.7/dist-packages (1.0.1)\n",
            "Requirement already satisfied: numpy>=1.14.5 in /usr/local/lib/python3.7/dist-packages (from anaflow) (1.21.6)\n",
            "Requirement already satisfied: pentapy>=1.1.0 in /usr/local/lib/python3.7/dist-packages (from anaflow) (1.1.2)\n",
            "Requirement already satisfied: scipy>=1.1.0 in /usr/local/lib/python3.7/dist-packages (from anaflow) (1.4.1)\n"
          ]
        }
      ],
      "source": [
        "!pip install anaflow"
      ]
    },
    {
      "cell_type": "code",
      "source": [
        "import numpy as np\n",
        "import sympy as sp\n",
        "import anaflow\n",
        "import pandas as pd\n",
        "from sympy import *\n",
        "from sympy.solvers.solveset import linsolve\n",
        "import scipy.special as sc\n",
        "from scipy import integrate\n",
        "import matplotlib.pyplot as plt\n",
        "from mpmath import *\n",
        "mp.dps = 15; mp.pretty = True"
      ],
      "metadata": {
        "id": "qp886ZpxFJYW"
      },
      "execution_count": null,
      "outputs": []
    },
    {
      "cell_type": "code",
      "source": [
        "#Исходные данные\n",
        "q = 0.00092 # [m3/c] - дебит скважины\n",
        "B = 1.25 # [m3/m3] - объемный коэффициент\n",
        "k = 5*1e-15 # [m2] - изотропная проницаемость\n",
        "h = 9.144 # [m] - толщина пласта\n",
        "f = 0.3 # [] - пористость\n",
        "c = 1.47*1e-9 # [1/Pa] - сжимаемость флюида\n",
        "cf = 1 * 1e-9 # [1/Pa] - сжимаемость породы\n",
        "ct = (c + cf) # [1/Pa] - общая породы\n",
        "rw = 0.1524 # [m] - радиус ствола скважины\n",
        "r = 0.1524 # [m] - радиальная координата и расстояние\n",
        "mu = 3*1e-3 # [Pa*c] - вязкость\n",
        "eta = k / (mu * f * ct) # коэф пьезопроводности \n",
        "eta_x = (eta ** 2 * 10) ** (1/2) # [] - коэффициент пьезопроводности в x направлении\n",
        "eta_y = eta_x # [] - коэффициент пьезопроводности в y направлении\n",
        "eta_z = 0.1 * eta_x # [] - коэффициент пьезопроводности в z направлении\n",
        "x = rw # [m] - расстояние в x направлении\n",
        "x_s = 0 # [m] - координата источника в x направлении\n",
        "y = 0 # [m] - расстояние в y направлении\n",
        "y_s = 0 # [m] - координата источника в y направлении\n",
        "z = 5 # [m] - расстояние в z направлении\n",
        "z_w = 5 # [m] - координата скважины в z направлении\n",
        "l = rw\n",
        "x_d = 0\n",
        "y_d = 0\n",
        "x_wd = 0\n",
        "y_wd = 0\n",
        "tetta = 0\n",
        "Lh = 400\n",
        "pi = 3.44738E+7"
      ],
      "metadata": {
        "id": "0e-hgagKFNJE"
      },
      "execution_count": null,
      "outputs": []
    },
    {
      "cell_type": "code",
      "source": [
        "def td_2_t(td, eta = eta, l = l):\n",
        "  return l ** 2 * td / eta"
      ],
      "metadata": {
        "id": "XcoFydHeFUgy"
      },
      "execution_count": null,
      "outputs": []
    },
    {
      "cell_type": "code",
      "source": [
        "def hd(h = h, k = k, kz = 1 * k, l = l):\n",
        "  return h * (k / kz) ** 0.5 / l\n"
      ],
      "metadata": {
        "id": "UZoAeaPfFVCl"
      },
      "execution_count": null,
      "outputs": []
    },
    {
      "cell_type": "code",
      "source": [
        "def en(u, n, hd = hd()):\n",
        "  return (u + n ** 2 * np.pi ** 2 / hd ** 2) ** 0.5"
      ],
      "metadata": {
        "id": "VLsMt-blGQfJ"
      },
      "execution_count": null,
      "outputs": []
    },
    {
      "cell_type": "code",
      "source": [
        "def func_hor_well_int_1(s, a ,n, x_d = x_d, x_wd = x_wd, y_d = y_d, y_wd = y_wd, k = k, kx = k):\n",
        "  return sc.kn(0, ((x_d - x_wd - a * (k / kx) ** 0.5) ** 2 + (y_d - y_wd) ** 2) ** 0.5 * en(s,n)) "
      ],
      "metadata": {
        "id": "YNQ0yoCAFri4"
      },
      "execution_count": null,
      "outputs": []
    },
    {
      "cell_type": "code",
      "source": [
        "def func_hor_well_int_11(s, n, h = h, z = z, z_w = z_w, l = l, Lh= Lh):\n",
        "  v = np.zeros(len(s))\n",
        "  m = 0\n",
        "  an = np.linspace(-Lh/(2*l), (Lh/(2*l)), 1000)\n",
        "  for i in s:\n",
        "    v[m] = np.trapz(func_hor_well_int_1(i, an,n), an)\n",
        "    m += 1\n",
        "  return  np.sin(n * np.pi * z / h) * np.sin(n * np.pi * z_w / h) * v"
      ],
      "metadata": {
        "id": "jC1kRtCYFs0g"
      },
      "execution_count": null,
      "outputs": []
    },
    {
      "cell_type": "code",
      "source": [
        "def sum_hor_well_int(s):\n",
        "  m = 1\n",
        "  result_1 = 0\n",
        "  while (m < 300):\n",
        "    result_1 += func_hor_well_int_11(s,m)\n",
        "    m += 1\n",
        "  return result_1"
      ],
      "metadata": {
        "id": "XiwFLZ3UFt8Y"
      },
      "execution_count": null,
      "outputs": []
    },
    {
      "cell_type": "code",
      "source": [
        "def hor_well_int_part(s,  h = h, hd = hd(), q = q, k = k, B = B, mu = mu, Lh = Lh):\n",
        "  return q * mu * B  / ( np.pi * k  * hd * Lh * s) * sum_hor_well_int(s) "
      ],
      "metadata": {
        "id": "x8bUOWAEFuMk"
      },
      "execution_count": null,
      "outputs": []
    },
    {
      "cell_type": "code",
      "source": [
        "path = 'https://raw.githubusercontent.com/AvtomonovPavel/Method-of-sources/main/Examples/example_3.2.4'\n",
        "df = pd.read_table(path, sep='\\s+', engine = 'python')"
      ],
      "metadata": {
        "id": "N_7UrZ2THeK6"
      },
      "execution_count": null,
      "outputs": []
    },
    {
      "cell_type": "code",
      "source": [
        "t = np.logspace(-1, 3.5, 100)\n",
        "pd_lps = anaflow.get_lap_inv(hor_well_int_part )\n",
        "p_res = pd_lps(t)\n",
        "t_res = td_2_t(t)"
      ],
      "metadata": {
        "id": "149VlZKsrcNP"
      },
      "execution_count": null,
      "outputs": []
    },
    {
      "cell_type": "code",
      "source": [
        "\n",
        "fig, ax1 = plt.subplots()\n",
        "fig.set_size_inches(16, 8)\n",
        "\n",
        "pd_lps = anaflow.get_lap_inv(hor_well_int_part )\n",
        "ax1.plot(t_res, p_res , label = 'Депрессия ')\n",
        "ax1.plot(t_res[:-1], np.diff(p_res)/np.diff(t_res) * t_res[:-1], label = \"Производная депрессии\")\n",
        "ax1.plot(df['dTime'], df['p-p@dt=0'],'o', label = 'Результаты коммерческого симмулятора')\n",
        "ax1.plot(df['dTime'], df['Derivative'],'o', label = 'Результаты коммерческого симмулятора')\n",
        "ax1.set_xscale('log')\n",
        "ax1.set_yscale('log')\n",
        "ax1.legend()\n",
        "plt.title(\"Горизонтальная скважина. dP(t)\")\n",
        "ax1.set_xscale('log')\n",
        "ax1.set_yscale('log')\n",
        "plt.xlabel(\"t, c\")\n",
        "plt.ylabel(\"dP, Па\")\n",
        "ax1.grid()\n",
        "ax1.legend()"
      ],
      "metadata": {
        "colab": {
          "base_uri": "https://localhost:8080/",
          "height": 535
        },
        "id": "XhArMa6jFvaH",
        "outputId": "816439a9-6c2e-4bf5-b112-d9c5f3bf0c2e"
      },
      "execution_count": null,
      "outputs": [
        {
          "output_type": "execute_result",
          "data": {
            "text/plain": [
              "<matplotlib.legend.Legend at 0x7ffaf1784f10>"
            ]
          },
          "metadata": {},
          "execution_count": 59
        },
        {
          "output_type": "display_data",
          "data": {
            "text/plain": [
              "<Figure size 1152x576 with 1 Axes>"
            ],
            "image/png": "[encoded data removed]"
          },
          "metadata": {
            "needs_background": "light"
          }
        }
      ]
    },
    {
      "cell_type": "code",
      "source": [
        ""
      ],
      "metadata": {
        "id": "j5LCMb7M3Eae"
      },
      "execution_count": null,
      "outputs": []
    }
  ]
}