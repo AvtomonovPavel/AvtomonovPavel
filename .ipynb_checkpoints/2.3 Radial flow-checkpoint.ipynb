{
 "cells": [
  {
   "cell_type": "code",
   "execution_count": 1,
   "id": "5f0bf76c",
   "metadata": {},
   "outputs": [],
   "source": [
    "import matplotlib.pyplot as plt\n",
    "import numpy as np\n",
    "import scipy.special as sc\n",
    "import pandas as pd\n",
    "import math "
   ]
  },
  {
   "cell_type": "code",
   "execution_count": null,
   "id": "6c473fca",
   "metadata": {},
   "outputs": [],
   "source": [
    "#Исходные данные\n",
    "v_liq = 80 #V_ж - [m^3] - объемн жидкости\n",
    "sigma = 0.073   # sigma -[м^2] - площадь поперечного сечения\n",
    "kpr = 5e-15    # kpr - [м^2] - проницаемость\n",
    "mu = 3e-4    # mu - [Pa*c] - вязкость\n",
    "f = 0.3 # [] - пористость\n",
    "c = 1.47*1e-3 # [1/MPa] - сжимаемость флюида\n",
    "cf = 1 * 1e-3 # [1/MPa] - сжимаемость породы\n",
    "ct = (c + cf) # [1/MPa] - общая породы\n",
    "k = kpr / (mu * f * ct)    # k - [м^2/с] - пьезопроводность пласта\n",
    "betta = f * ct    # betta - [MPa^(-1)] коэффициент упругоемкости пласта\n",
    "qc = 0.00092    # Qc - [m^3/с] - объемный дебит жидкости\n",
    "b = 10    # b -[м]- толщина пласта\n",
    "\n",
    "    # t -[c] - время\n",
    "    # xi -[м] - расстояние\n",
    "    \n",
    "    "
   ]
  },
  {
   "cell_type": "markdown",
   "id": "23c03ce6",
   "metadata": {},
   "source": [
    "# Формула, связывающая коэффициенты пьезопроводности, проницаемости и упрогоемкости пласта.\n",
    "## Формула (3.44) стр 121\n",
    "$$ Q_\\xi = \\dfrac{V_ж}{Г(\\dfrac{1+\\alpha}{2})}\\dfrac{(\\dfrac{\\xi^2}{4\\kappa t})^{\\dfrac{1+\\alpha}{2}}}{t}\\exp^{-\\dfrac{\\xi^2}{4\\kappa t}}$$"
   ]
  },
  {
   "cell_type": "code",
   "execution_count": 3,
   "id": "fe36f29e",
   "metadata": {},
   "outputs": [],
   "source": [
    "def q_xi_a(a, t, xi, v_liq = v_liq, k = k):\n",
    "    # V_ж - [m^3] - объемн жидкости\n",
    "    # k - [м^2/с] - пьезопроводность пласта\n",
    "    # t -[c] - время\n",
    "    # xi -[м] - расстояние\n",
    "    return v_liq / sc.gamma((1 + a) / 2) * (xi ** 2 / (4 * k * t)) ** ((1 + a) / 2)/ t * np.exp(-xi ** 2 / 4 / k / t)"
   ]
  },
  {
   "cell_type": "markdown",
   "id": "d44e0085",
   "metadata": {},
   "source": [
    "## Формула (3.48) стр. 122\n",
    "$$ V_\\xi = \\dfrac{V_ж}{Г(\\dfrac{1+\\alpha}{2})}Г(\\dfrac{1+\\alpha}{2},\\dfrac{\\xi^2}{4\\kappa t})$$"
   ]
  },
  {
   "cell_type": "code",
   "execution_count": 5,
   "id": "b3ad91ec",
   "metadata": {},
   "outputs": [],
   "source": [
    "def v_xi_a(a, t, xi, v_liq = v_liq, k = k):\n",
    "    # V_ж - [m^3] - объемн жидкости\n",
    "    # k - [м^2/с] - пьезопроводность пласта\n",
    "    # t -[c] - время\n",
    "    # xi -[м] - расстояние\n",
    "    return v_liq / sc.gamma((1 + a) / 2) * sc.gamma((1 + a) / 2)*(1-sc.gammainc((1 + a) / 2, xi ** 2 / 4 / k / t))"
   ]
  },
  {
   "cell_type": "code",
   "execution_count": 6,
   "id": "a7969eb9",
   "metadata": {},
   "outputs": [
    {
     "data": {
      "text/plain": [
       "0.2788055852806615"
      ]
     },
     "execution_count": 6,
     "metadata": {},
     "output_type": "execute_result"
    }
   ],
   "source": [
    "#ВАЖНО\n",
    "#Неполная гамма функция для sc\n",
    "sc.gamma(1/2)*(1-sc.gammainc(1/2,1))"
   ]
  },
  {
   "cell_type": "markdown",
   "id": "86aa0023",
   "metadata": {},
   "source": [
    "# $$\\alpha = 2$$\n",
    "# Радиальный поток к точечному стоку с постоянным дебитом"
   ]
  },
  {
   "cell_type": "markdown",
   "id": "6f21fb0c",
   "metadata": {},
   "source": [
    "## Фундаментальное решение для уравнения пьезопроводности для случая плоско-радиального потока \n",
    "### Формула (3.30) стр 111\n",
    "$$ \\Delta P = ± \\dfrac{V_ж}{8{(\\pi \\kappa t)}^{\\dfrac{3}{2}}\\beta^*} \\exp^{-\\dfrac{\\xi^2}{4\\kappa t}} $$\n",
    "\n",
    "\n",
    "\n"
   ]
  },
  {
   "cell_type": "code",
   "execution_count": 8,
   "id": "f007612a",
   "metadata": {},
   "outputs": [],
   "source": [
    "def deltaP_2(t, xi, v_liq=1e2, betta=0.0003, k=3e-4):\n",
    "    # v_liq -[м^3]- объем жидкости, извлеченной из пласта\n",
    "    # betta -[1/МПа] - коэффициент упругоемкости пласта\n",
    "    # k -[м^2/c]- пьезопроводность\n",
    "    # t - [c]- время\n",
    "    # xi -[м]- расстояние\n",
    "    return v_liq / 8 /(3.14 * k * t) ** (3/2) / betta * np.exp(-xi ** 2 / 4 / k/ t)"
   ]
  },
  {
   "cell_type": "markdown",
   "id": "21ef01f7",
   "metadata": {},
   "source": [
    "# Работа с постоянным дебитом"
   ]
  },
  {
   "cell_type": "markdown",
   "id": "e4b19c49",
   "metadata": {},
   "source": [
    "## Формула, позволяющая определить понижение давления в любой момент времени в любой точке пласта после пуска точечного стока с постоянным дебитом\n",
    "### Формула (4.12) стр. 130\n",
    "$$\\Delta p = \\dfrac{Q_c \\mu }{8 \\pi Г(\\dfrac{3}{2}) k \\xi} Г(\\dfrac{1}{2},\\dfrac{\\xi^2}{4kt})$$\n",
    "\n",
    "### Формула (4.15) стр. 131\n",
    "$$\\Delta p = \\dfrac{Q_c \\mu }{4 \\pi k \\xi}erfc\\sqrt{\\dfrac{\\xi^2}{4\\kappa t}}$$"
   ]
  },
  {
   "cell_type": "code",
   "execution_count": 9,
   "id": "fec91dde",
   "metadata": {},
   "outputs": [],
   "source": [
    "def deltaP_Qc_2(t, xi, qc=0.001, mu=0.0005, betta=0.0003, k=3e-4,kpr=1e-11):\n",
    "    # Qc - [m^3/час] - объемный дебит жидкости\n",
    "    # mu - [mPa*c] - вязкость\n",
    "    # betta - коэффициент упругоемкости пласта\n",
    "    # k -[м^2/c]- пьезопроводность\n",
    "    # k -[м^2]- проницаемость\n",
    "    # t -[c]- время\n",
    "    # xi -[м]- расстояние\n",
    "    return qc * mu / (4 * 3.14 * kpr * xi) * sc.erfc((xi ** 2 / 4 / k / t) ** (1 / 2))"
   ]
  },
  {
   "cell_type": "markdown",
   "id": "c1980f93",
   "metadata": {},
   "source": [
    "## Расаход. жидкости $$Q_\\xi$$  через поперечное сечение потока $$ \\xi = const $$\n",
    "### Формула (4.21) стр. 132\n",
    "$$Q_\\xi=Q_c (erfc\\sqrt{\\dfrac{\\xi^2}{4\\kappa t}}+\\dfrac{2}{\\sqrt{\\pi}}\\sqrt{\\dfrac{\\xi^2}{4\\kappa t}} \\exp^{-\\dfrac{\\xi^2}{4\\kappa t}})$$"
   ]
  },
  {
   "cell_type": "code",
   "execution_count": 10,
   "id": "7553838f",
   "metadata": {},
   "outputs": [],
   "source": [
    "def q_xi_Qc_2(t, xi, qc=0.0001, k=3e-4):\n",
    "    # qc - [m^3/с] - объемный дебит жидкости\n",
    "    # k -[м^2/c]- пьезопроводность\n",
    "    # t -[c]- время\n",
    "    # xi -[м]- расстояние\n",
    "    return qc * (2 / (3.14) ** (1 / 2) * (xi ** 2 / 4 / k / t) ** (1/2) * np.exp(-xi ** 2 / 4 / k / t)+ sc.erfc((xi ** 2 / 4 / k / t)**(1 / 2)))"
   ]
  },
  {
   "cell_type": "markdown",
   "id": "b036163f",
   "metadata": {},
   "source": [
    "## Количество жидкости, которая к моменту времени t протечет через постоянное сечение потока\n",
    "### Формула (4.30) стр. 134\n",
    "$$ V_\\xi = Q_c* t *(erfc\\sqrt{-\\dfrac{\\xi^2}{4\\kappa t} } + 2\\sqrt{-\\dfrac{\\xi^2}{4\\kappa t} } ierfc\\sqrt{-\\dfrac{\\xi^2}{4\\kappa t} })$$\n",
    "\n",
    "\n"
   ]
  },
  {
   "cell_type": "code",
   "execution_count": 12,
   "id": "66339869",
   "metadata": {},
   "outputs": [],
   "source": [
    "def v_xi_Qc_2(t, xi, qc=0.0001, k=3e-4):\n",
    "    # qc - [m^3/с] - объемный дебит жидкости\n",
    "    # k -[м^2/c]- пьезопроводность\n",
    "    # t -[c]- время\n",
    "    # xi -[м]- расстояние\n",
    "    return qc * t * (sc.erfc((xi ** 2 / 4 / k / t)**(1 / 2)) + 2 * (xi ** 2 / 4 / k / t)**(1 / 2) * (1 / (3.14) ** (1 / 2) * np.exp(-xi ** 2 / 4 / k / t)-(xi ** 2 / 4 / k / t)**(1 / 2)*sc.erfc((xi ** 2 / 4 / k / t)**(1 / 2))))\n",
    "\n"
   ]
  },
  {
   "cell_type": "markdown",
   "id": "040d687a",
   "metadata": {},
   "source": [
    "## График понижения пластового давления\n",
    "## рис. 4.3"
   ]
  },
  {
   "cell_type": "code",
   "execution_count": 13,
   "id": "7f05d048",
   "metadata": {},
   "outputs": [
    {
     "data": {
      "image/png": "[encoded data removed]",
      "text/plain": [
       "<Figure size 576x432 with 1 Axes>"
      ]
     },
     "metadata": {
      "needs_background": "light"
     },
     "output_type": "display_data"
    }
   ],
   "source": [
    "t = np.arange(1e-10,40,0.01)\n",
    "xi_1 = 0.01\n",
    "xi_2 = 0.02\n",
    "xi_3 = 0.03\n",
    "\n",
    "\n",
    "fig,ax1 = plt.subplots(1,1) \n",
    "fig.set_size_inches(8, 6)\n",
    "ax1.plot(t,deltaP_Qc_2(t,xi_1), label = 'xi = {}'.format(xi_1))\n",
    "ax1.plot(t,deltaP_Qc_2(t,xi_2), label = 'xi = {}'.format(xi_2))\n",
    "ax1.plot(t,deltaP_Qc_2(t,xi_3), label = 'xi = {}'.format(xi_3))\n",
    "\n",
    "\n",
    "ax1.grid()\n",
    "ax1.set(title = \"\")\n",
    "ax1.set_xlabel(\"Время\")\n",
    "ax1.set_ylabel(\"delta_P\")\n",
    "plt.gca().invert_yaxis()\n",
    "ax1.set_title('''График понижения пластового давления''',\n",
    "                loc = 'center',     #  значение по умолчанию\n",
    "                pad = 20)\n",
    "\n",
    "\n",
    "ax1.legend()\n",
    "plt.show()"
   ]
  },
  {
   "cell_type": "code",
   "execution_count": null,
   "id": "8dfa7739",
   "metadata": {},
   "outputs": [],
   "source": []
  }
 ],
 "metadata": {
  "kernelspec": {
   "display_name": "Python 3",
   "language": "python",
   "name": "python3"
  },
  "language_info": {
   "codemirror_mode": {
    "name": "ipython",
    "version": 3
   },
   "file_extension": ".py",
   "mimetype": "text/x-python",
   "name": "python",
   "nbconvert_exporter": "python",
   "pygments_lexer": "ipython3",
   "version": "3.9.12"
  }
 },
 "nbformat": 4,
 "nbformat_minor": 5
}
