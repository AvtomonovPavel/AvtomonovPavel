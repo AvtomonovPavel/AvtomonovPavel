{
  "nbformat": 4,
  "nbformat_minor": 0,
  "metadata": {
    "colab": {
      "name": "3.3 The model of a well with a fractured hydraulic fracturing.ipynb",
      "provenance": [],
      "collapsed_sections": [],
      "authorship_tag": "ABX9TyPR72se9rQxQiCgsbKNXsJV"
    },
    "kernelspec": {
      "name": "python3",
      "display_name": "Python 3"
    },
    "language_info": {
      "name": "python"
    }
  },
  "cells": [
    {
      "cell_type": "code",
      "execution_count": 74,
      "metadata": {
        "colab": {
          "base_uri": "https://localhost:8080/"
        },
        "id": "QE4vZab6FHWc",
        "outputId": "eacd72bb-2e98-49bf-c588-ba87f2b34083"
      },
      "outputs": [
        {
          "output_type": "stream",
          "name": "stdout",
          "text": [
            "Requirement already satisfied: anaflow in /usr/local/lib/python3.7/dist-packages (1.0.1)\n",
            "Requirement already satisfied: pentapy>=1.1.0 in /usr/local/lib/python3.7/dist-packages (from anaflow) (1.1.2)\n",
            "Requirement already satisfied: scipy>=1.1.0 in /usr/local/lib/python3.7/dist-packages (from anaflow) (1.4.1)\n",
            "Requirement already satisfied: numpy>=1.14.5 in /usr/local/lib/python3.7/dist-packages (from anaflow) (1.21.6)\n"
          ]
        }
      ],
      "source": [
        "!pip install anaflow"
      ]
    },
    {
      "cell_type": "code",
      "source": [
        "import numpy as np\n",
        "import sympy as sp\n",
        "import anaflow\n",
        "import pandas as pd\n",
        "import scipy.special as sc\n",
        "from scipy import integrate\n",
        "import matplotlib.pyplot as plt\n",
        "from mpmath import *\n",
        "mp.dps = 15; mp.pretty = True"
      ],
      "metadata": {
        "id": "cjw9mQG0FKnF"
      },
      "execution_count": 75,
      "outputs": []
    },
    {
      "cell_type": "markdown",
      "source": [
        "##Задача (Uniform Flux)\n",
        "###Рассмотрим неустановившейся приток к вертикальной трещине, частично вскрывающей пласт на глубину по вертикале hf и по горизонтали 2xf в бесконечном неоднородном горизонтальном пласте постоянной толщины h с начальным давлением pi, с непроницаемыми верхней и нижней границами."
      ],
      "metadata": {
        "id": "LtwHoHUv7suC"
      }
    },
    {
      "cell_type": "markdown",
      "source": [
        "###Исходные данные"
      ],
      "metadata": {
        "id": "mkAF5_xI75Se"
      }
    },
    {
      "cell_type": "code",
      "source": [
        "#Исходные данные\n",
        "q = 0.00092 # [m3/c] - дебит скважины\n",
        "B = 1.25 # [m3/m3] - объемный коэффициент\n",
        "k = 5*1e-15 # [m2] - изотропная проницаемость\n",
        "h = 9.144 # [m] - толщина пласта\n",
        "f = 0.3 # [] - пористость\n",
        "c = 1.47*1e-9 # [1/Pa] - сжимаемость флюида\n",
        "cf = 1 * 1e-9 # [1/Pa] - сжимаемость породы\n",
        "ct = (c + cf) # [1/Pa] - общая породы\n",
        "rw = 0.1524 # [m] - радиус ствола скважины\n",
        "r = 0.1524 # [m] - радиальная координата и расстояние\n",
        "mu = 3*1e-3 # [Pa*c] - вязкость\n",
        "eta = k / (mu * f * ct) # коэф пьезопроводности \n",
        "eta_x = (eta ** 2 * 10) ** (1/2) # [] - коэффициент пьезопроводности в x направлении\n",
        "eta_y = eta_x # [] - коэффициент пьезопроводности в y направлении\n",
        "eta_z = 0.1 * eta_x # [] - коэффициент пьезопроводности в z направлении\n",
        "x = rw # [m] - расстояние в x направлении\n",
        "x_s = 0 # [m] - координата источника в x направлении\n",
        "y = 0 # [m] - расстояние в y направлении\n",
        "y_s = 0 # [m] - координата источника в y направлении\n",
        "z = 5 # [m] - расстояние в z направлении\n",
        "z_w = 5 # [m] - координата скважины в z направлении\n",
        "t_s = 5\n",
        "tau = np.logspace(0,6,100) # [c] - время\n",
        "t = np.logspace(2,9,1000) # [c] - время\n",
        "h_f = h # - [м] - высота трещины (вертикально вскрывающей пласт)\n",
        "xf = 200 # - [м] - полудлина трещины \n",
        "x = x_w = 0\n",
        "y = y_w = 0\n",
        "tetta = 0\n",
        "x_wd = 0\n",
        "y_wd = 0\n",
        "l = rw\n",
        "x_d = 1\n",
        "y_d = 0"
      ],
      "metadata": {
        "id": "5UpDqQwfFLbG"
      },
      "execution_count": 76,
      "outputs": []
    },
    {
      "cell_type": "code",
      "source": [
        "def td_2_t(td, eta = eta, l = l):\n",
        "  return l ** 2 * td / eta"
      ],
      "metadata": {
        "id": "_jJPSuzE9af7"
      },
      "execution_count": 77,
      "outputs": []
    },
    {
      "cell_type": "code",
      "source": [
        "def hd(h = h, k = k, kz = 1 * k, l = l):\n",
        "  return h * (k / kz) ** 0.5 / l"
      ],
      "metadata": {
        "id": "WgzyZF_L9eyJ"
      },
      "execution_count": 78,
      "outputs": []
    },
    {
      "cell_type": "code",
      "source": [
        "def func_vert_grp_well(s, a ,  hd = hd(), x_d = 1, x_wd = x_wd, y_d = y_d, y_wd = y_wd, k = k, kx = k):\n",
        "  return sc.kn(0, ((x_d - x_wd - a * (k / kx) ** 0.5) ** 2 + (y_d - y_wd) ** 2) ** 0.5 * s ** 0.5) "
      ],
      "metadata": {
        "id": "b0-wAmmNFMVP"
      },
      "execution_count": 79,
      "outputs": []
    },
    {
      "cell_type": "code",
      "source": [
        "def vert_grp_well(s,  hd = hd(), xf = xf, q = q, B = B, k = k):\n",
        "  v = np.zeros(len(s))\n",
        "  m = 0\n",
        "  for i in s:\n",
        "    an = np.linspace(-(xf/l), (xf/l), 100)\n",
        "    v[m] = integrate.simps(func_vert_grp_well(i, an), an)\n",
        "    m += 1\n",
        "\n",
        "  return  q * mu * B / (4 * np.pi * k * xf * hd * s  ) * v"
      ],
      "metadata": {
        "id": "GdYtF3xQFVbu"
      },
      "execution_count": 80,
      "outputs": []
    },
    {
      "cell_type": "code",
      "source": [
        "def func_vert_grp_well_1(s,rd_s, a = 0 , rd=rw/l,  tetta = tetta):\n",
        "  return sc.kn(0, (rd ** 2 + rd_s ** 2 - 2 * rd * rd_s * np.cos(tetta-a)) ** 0.5 * s ** 0.5) "
      ],
      "metadata": {
        "id": "s5tTBGG0FWne"
      },
      "execution_count": 81,
      "outputs": []
    },
    {
      "cell_type": "code",
      "source": [
        "def func_vert_grp_well_2(s, rd_s, a = 0, rd=rw/l, tetta = tetta):\n",
        "  return sc.kn(0, (rd ** 2 + rd_s ** 2 - 2 * rd * rd_s * np.cos(tetta-a-np.pi)) ** 0.5 * s ** 0.5) "
      ],
      "metadata": {
        "id": "xNuX8SL9FaEm"
      },
      "execution_count": 82,
      "outputs": []
    },
    {
      "cell_type": "code",
      "source": [
        "def vert_grp_well_12(s, rd=rw/l, hd = hd(), xf = xf, q = q, mu = mu, B = B, k = k):\n",
        "  v = np.zeros(1200)\n",
        "  m = 0\n",
        "  for i in s:\n",
        "    an = np.linspace(0, (xf/l), 100)\n",
        "    v[m] = integrate.simps(func_vert_grp_well_1(i, an), an) + integrate.simps(func_vert_grp_well_2(i, an), an)\n",
        "    m += 1\n",
        "\n",
        "  return  q * mu * B / (4 * np.pi * k  * hd * xf * s) * v"
      ],
      "metadata": {
        "id": "ogc7B4jD9Sku"
      },
      "execution_count": 83,
      "outputs": []
    },
    {
      "cell_type": "code",
      "source": [
        "path = 'https://raw.githubusercontent.com/AvtomonovPavel/Method-of-sources/main/Examples/example_3.1.3'\n",
        "df = pd.read_table(path, sep='\\s+', engine = 'python')"
      ],
      "metadata": {
        "id": "E0nnZdww97br"
      },
      "execution_count": 85,
      "outputs": []
    },
    {
      "cell_type": "code",
      "source": [
        "t = np.logspace(1, 7, 100)\n",
        "fig, ax1 = plt.subplots()\n",
        "fig.set_size_inches(16, 8)\n",
        "pd_lps = anaflow.get_lap_inv(vert_grp_well)\n",
        "pd_lps1 = anaflow.get_lap_inv(vert_grp_well_12)\n",
        "ax1.plot(td_2_t(t), pd_lps1(t) , label = 'Депрессия ')\n",
        "ax1.plot(td_2_t(t)[:-1], np.diff(pd_lps1(t))/np.diff(td_2_t(t)) * td_2_t(t)[:-1], label = \"Производная депрессии\")\n",
        "plt.title(\"Вертикальная скважина. ГРП. dP(t)\")\n",
        "ax1.plot(df['dTime'], df['p-p@dt=0'],'o', label = 'Результаты коммерческого симмулятора')\n",
        "ax1.plot(df['dTime'], df['Derivative'],'o', label = 'Результаты коммерческого симмулятора')\n",
        "ax1.set_xscale('log')\n",
        "ax1.set_yscale('log')\n",
        "plt.xlabel(\"t, c\")\n",
        "plt.ylabel(\"dP, Па\")\n",
        "ax1.grid()\n",
        "ax1.legend()"
      ],
      "metadata": {
        "colab": {
          "base_uri": "https://localhost:8080/",
          "height": 534
        },
        "id": "CU5RE5UzFgB_",
        "outputId": "a893c76d-6aea-434d-ef50-20d0c267f327"
      },
      "execution_count": 86,
      "outputs": [
        {
          "output_type": "execute_result",
          "data": {
            "text/plain": [
              "<matplotlib.legend.Legend at 0x7f3c8c0c4b10>"
            ]
          },
          "metadata": {},
          "execution_count": 86
        },
        {
          "output_type": "display_data",
          "data": {
            "text/plain": [
              "<Figure size 1152x576 with 1 Axes>"
            ],
            "image/png": "[encoded data removed]"
          },
          "metadata": {
            "needs_background": "light"
          }
        }
      ]
    },
    {
      "cell_type": "code",
      "source": [
        " df['p-p@dt=0']"
      ],
      "metadata": {
        "id": "zRnPSjFqFhgZ",
        "colab": {
          "base_uri": "https://localhost:8080/"
        },
        "outputId": "298141c9-f234-48cb-bcd2-7fab140bf75b"
      },
      "execution_count": 87,
      "outputs": [
        {
          "output_type": "execute_result",
          "data": {
            "text/plain": [
              "0      3.028656e+04\n",
              "1      4.283166e+04\n",
              "2      5.245794e+04\n",
              "3      6.057312e+04\n",
              "4      6.772281e+04\n",
              "           ...     \n",
              "174    2.667426e+07\n",
              "175    2.683690e+07\n",
              "176    2.699525e+07\n",
              "177    2.714953e+07\n",
              "178    2.729994e+07\n",
              "Name: p-p@dt=0, Length: 179, dtype: float64"
            ]
          },
          "metadata": {},
          "execution_count": 87
        }
      ]
    },
    {
      "cell_type": "code",
      "source": [
        "df['dTime']"
      ],
      "metadata": {
        "colab": {
          "base_uri": "https://localhost:8080/"
        },
        "id": "YQDo_fde_k8x",
        "outputId": "ce6e9cfb-8431-413d-c6aa-46f2eb7b1e9f"
      },
      "execution_count": 88,
      "outputs": [
        {
          "output_type": "execute_result",
          "data": {
            "text/plain": [
              "0      3.600000e+01\n",
              "1      7.200000e+01\n",
              "2      1.080000e+02\n",
              "3      1.440000e+02\n",
              "4      1.800000e+02\n",
              "           ...     \n",
              "174    8.957662e+07\n",
              "175    9.207662e+07\n",
              "176    9.457662e+07\n",
              "177    9.707662e+07\n",
              "178    9.957662e+07\n",
              "Name: dTime, Length: 179, dtype: float64"
            ]
          },
          "metadata": {},
          "execution_count": 88
        }
      ]
    },
    {
      "cell_type": "code",
      "source": [
        ""
      ],
      "metadata": {
        "id": "fMGSeYyM_unl"
      },
      "execution_count": null,
      "outputs": []
    }
  ]
}