{
  "nbformat": 4,
  "nbformat_minor": 0,
  "metadata": {
    "colab": {
      "name": "3.1 The model of a vertical well.ipynb",
      "provenance": [],
      "authorship_tag": "ABX9TyNZD/2rlH9ixNwrP5nFf2HX"
    },
    "kernelspec": {
      "name": "python3",
      "display_name": "Python 3"
    },
    "language_info": {
      "name": "python"
    }
  },
  "cells": [
    {
      "cell_type": "code",
      "execution_count": 1,
      "metadata": {
        "colab": {
          "base_uri": "https://localhost:8080/"
        },
        "id": "2rkidGCQ_PUa",
        "outputId": "a17aa987-9044-42c4-f2e9-c9be0c4ec1fa"
      },
      "outputs": [
        {
          "output_type": "stream",
          "name": "stdout",
          "text": [
            "Requirement already satisfied: anaflow in /usr/local/lib/python3.7/dist-packages (1.0.1)\n",
            "Requirement already satisfied: scipy>=1.1.0 in /usr/local/lib/python3.7/dist-packages (from anaflow) (1.4.1)\n",
            "Requirement already satisfied: numpy>=1.14.5 in /usr/local/lib/python3.7/dist-packages (from anaflow) (1.21.6)\n",
            "Requirement already satisfied: pentapy>=1.1.0 in /usr/local/lib/python3.7/dist-packages (from anaflow) (1.1.2)\n"
          ]
        }
      ],
      "source": [
        "!pip install anaflow"
      ]
    },
    {
      "cell_type": "code",
      "source": [
        "import numpy as np\n",
        "import sympy as sp\n",
        "import anaflow\n",
        "import scipy.special as sc\n",
        "from scipy import integrate\n",
        "import matplotlib.pyplot as plt\n",
        "import pandas as pd\n",
        "from mpmath import *\n",
        "mp.dps = 15; mp.pretty = True"
      ],
      "metadata": {
        "id": "_6QS81Gv_Stc"
      },
      "execution_count": 2,
      "outputs": []
    },
    {
      "cell_type": "markdown",
      "source": [
        "##Задача\n",
        "###Рассмотрим неустановившийся приток жидкости к вертикальной скважине, полностью вскрывшей бесконечный однородный пласт толщины h с начальным давлением pi."
      ],
      "metadata": {
        "id": "n0i35dL6kWZ4"
      }
    },
    {
      "cell_type": "markdown",
      "source": [
        "###Исходные данные"
      ],
      "metadata": {
        "id": "4FqGWkAokci3"
      }
    },
    {
      "cell_type": "code",
      "source": [
        "q = 0.00092 # [m3/c] - дебит скважины\n",
        "B = 1.25 # [m3/m3] - объемный коэффициент\n",
        "k = 5*1e-15 # [m2] - изотропная проницаемость\n",
        "h = 9.144 # [m] - толщина пласта\n",
        "f = 0.3 # [] - пористость\n",
        "c = 1.47*1e-9 # [1/Pa] - сжимаемость флюида\n",
        "cf = 1 * 1e-9 # [1/Pa] - сжимаемость породы\n",
        "ct = (c + cf) # [1/Pa] - общая породы\n",
        "rw = 0.1524 # [m] - радиус ствола скважины\n",
        "r = 0.1524 # [m] - радиальная координата и расстояние\n",
        "mu = 3*1e-3 # [Pa*c] - вязкость\n",
        "eta = k / (mu * f * ct) # коэф пьезопроводности "
      ],
      "metadata": {
        "id": "EPr0_EJp_YT5"
      },
      "execution_count": 3,
      "outputs": []
    },
    {
      "cell_type": "markdown",
      "source": [
        "# Решение относительно распределения давления\n",
        "$$ \\Delta p(s) = \\dfrac {qB\\mu}{2\\pi k h} \\dfrac{K_0 (\\sqrt{\\dfrac{s}{\\eta}}r)}{s\\sqrt{\\dfrac{s}{\\eta}}r_w K_1(\\sqrt{\\dfrac{s}{\\eta}}r_w)}$$"
      ],
      "metadata": {
        "id": "u_oDGiDA_ikn"
      }
    },
    {
      "cell_type": "markdown",
      "source": [
        "## Решение для линейного источника\n",
        "$$ \\Delta p(r,t) = - \\dfrac {q B \\mu} {4 \\pi k h} E_i(- \\dfrac {r^2} {4 \\eta t})$$"
      ],
      "metadata": {
        "id": "-JN5e1a__mE5"
      }
    },
    {
      "cell_type": "code",
      "source": [
        "# Решение для линейного источника\n",
        "def pd_ei (r, t, q = q, B = B, k = k, h = h, mu = mu, eta = eta, f = f):\n",
        "    return -q * B * mu /(4 * pi() * k * h)  * sc.expi(-r ** 2 /(4 * eta * t))"
      ],
      "metadata": {
        "id": "jh3BdWUy_iBZ"
      },
      "execution_count": 4,
      "outputs": []
    },
    {
      "cell_type": "code",
      "source": [
        "# Решение с учетом конечного радиуса скважины\n",
        "def pd_lapl (s, r = r, r_w = rw, q = q, B = B, k = k, h = h, mu = mu, eta = eta, f = f):\n",
        "    return q * B * mu / (2 * np.pi * k * h) * sc.kn(0, r * (s / eta) ** 0.5) /(s * r_w * (s / eta)** 0.5 * sc.kn(1, r_w * (s / eta) ** 0.5))"
      ],
      "metadata": {
        "id": "kOL-9AfO_giA"
      },
      "execution_count": 5,
      "outputs": []
    },
    {
      "cell_type": "code",
      "source": [
        "# Решение с учетом конечного радиуса скважины\n",
        "def pd_lapl_1 (s, r = r, r_w = rw, q = q, B = B, k = k, h = h, mu = mu, eta = eta, f = f):\n",
        "    return q * B * mu / (2 * pi() * k * h) * besselk(0, r * (s / eta) ** 0.5) /(s * r_w * (s / eta)** 0.5 * besselk(1, r_w * (s / eta) ** 0.5))"
      ],
      "metadata": {
        "id": "F6HdIb4cZnTe"
      },
      "execution_count": 6,
      "outputs": []
    },
    {
      "cell_type": "code",
      "source": [
        "# реализация функции расчета безразмерного давления на основе преобразования Лапласа\n",
        "def pd_line_source_lapl(r, t):\n",
        "    fp = lambda p: pd_lapl_1(p)\n",
        "    return invertlaplace(fp, t, method='stehfest', degree = 5)\n",
        "\n",
        "pd_ls_func = np.vectorize(pd_line_source_lapl)"
      ],
      "metadata": {
        "id": "kNXB5mqAZqiI"
      },
      "execution_count": 7,
      "outputs": []
    },
    {
      "cell_type": "code",
      "source": [
        "path = 'https://raw.githubusercontent.com/AvtomonovPavel/Method-of-sources/main/Examples/example_3.1.1'\n",
        "df = pd.read_table(path, sep='\\s+', engine = 'python')"
      ],
      "metadata": {
        "id": "8Uh8Q4ZFXGgj"
      },
      "execution_count": 8,
      "outputs": []
    },
    {
      "cell_type": "code",
      "source": [
        "t = np.logspace(-1, 4, 100)\n",
        "fig, ax1 = plt.subplots()\n",
        "fig.set_size_inches(16, 8)\n",
        "pd_ls = anaflow.get_lap_inv(pd_lapl)\n",
        "ax1.plot(t, pd_ls(t), label = 'Конечный радиус ')\n",
        "plt.title(\"Вертикальная скважина\")\n",
        "ax1.plot(t, pd_ei(r, t), label = ' Линейный источник')\n",
        "ax1.plot(df['dTime'], df['p-p@dt=0'],'o', label = 'Результаты коммерческого симмулятора')\n",
        "ax1.set_xscale('log')\n",
        "ax1.set_yscale('log')\n",
        "ax1.legend()\n",
        "ax1.grid()\n",
        "plt.xlabel(\"t, c\")\n",
        "plt.ylabel(\"dP, Па\")"
      ],
      "metadata": {
        "id": "IRGs219r_udt",
        "outputId": "25307b93-2d71-44de-8517-582362ff79a4",
        "colab": {
          "base_uri": "https://localhost:8080/",
          "height": 534
        }
      },
      "execution_count": 9,
      "outputs": [
        {
          "output_type": "execute_result",
          "data": {
            "text/plain": [
              "Text(0, 0.5, 'dP, Па')"
            ]
          },
          "metadata": {},
          "execution_count": 9
        },
        {
          "output_type": "display_data",
          "data": {
            "text/plain": [
              "<Figure size 1152x576 with 1 Axes>"
            ],
            "image/png": "[encoded data removed]"
          },
          "metadata": {
            "needs_background": "light"
          }
        }
      ]
    },
    {
      "cell_type": "code",
      "source": [
        ""
      ],
      "metadata": {
        "id": "2zT1uYksm_lA"
      },
      "execution_count": 10,
      "outputs": []
    }
  ]
}